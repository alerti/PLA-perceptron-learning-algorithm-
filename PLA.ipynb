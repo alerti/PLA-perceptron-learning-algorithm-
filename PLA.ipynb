{
 "cells": [
  {
   "cell_type": "code",
   "execution_count": 1,
   "metadata": {},
   "outputs": [],
   "source": [
    "import numpy as np\n",
    "import scipy.stats as ss\n",
    "from matplotlib import pyplot as plt\n",
    "from matplotlib import animation\n",
    "from IPython.display import Image\n",
    "\n",
    "%precision 10\n",
    "%matplotlib inline"
   ]
  },
  {
   "cell_type": "markdown",
   "metadata": {},
   "source": [
    "# Perceptron Learning Algorithm"
   ]
  },
  {
   "cell_type": "markdown",
   "metadata": {},
   "source": [
    "## Synthetic Datasets\n",
    "\n",
    "We will generate a number of data sets. The datapoints $\\mathbf{x} = \\left(x_1, \\cdots, x_d \\right)$ have $d$ features with values in the closed interval $[-1, 1]$. Each dataset has $N$ datapoints generated uniformly at random. The dataset is \n",
    "separated by the target function $f(\\mathbf{x})$ into positive, $f(\\mathbf{x})\\geq 0$, and negative examples,\n",
    "$f(\\mathbf{x}) < 0$, labeled as $+1$ and $-1$, respectively."
   ]
  },
  {
   "cell_type": "markdown",
   "metadata": {},
   "source": [
    "## Generate all datasets at once\n",
    "\n",
    "The total number of datapoints in one dataset $D$ is $N$:\n",
    "\n",
    "$$D = \\left\\{ \\mathbf{x}^{(1)}, \\cdots,  \\mathbf{x}^{(n)}, \\cdots, \\mathbf{x}^{(N)} \\right\\}$$ \n",
    "\n",
    "Each datapoint $\\mathbf{x} = \\left(x_1, \\cdots, x_d \\right)$ has $d$ features $x_1, x_2, \\cdots, x_d$.\n",
    "\n",
    "We add a *dummy feature* $x_0$ that has constant value $1$. This way we ensure that when the data are linear separable the separating hyperplane goes through the origin and it is uniquely characterized by the weight vector that is ortogonal to that hyperplane\n",
    "$$\\sum_{i=0}^{d+1} w_i x_i = \\mathbf{w}^\\top \\mathbf{x} = \\mathbf{w} . \\mathbf{x}$$\n",
    "\n",
    "We will generate $\\textit{nbsets}$ datasets in total.\n",
    "\n",
    "In summary, we have\n",
    "\n",
    "   - $N$ datapoints\n",
    "   - with $d$ features, and \n",
    "   - $nbsets$ datasets"
   ]
  },
  {
   "cell_type": "code",
   "execution_count": 2,
   "metadata": {},
   "outputs": [],
   "source": [
    "d, N, nbsets = 2, 10, 3"
   ]
  },
  {
   "cell_type": "code",
   "execution_count": 3,
   "metadata": {},
   "outputs": [],
   "source": [
    "nbpoints = N*nbsets\n",
    "all_datasets = np.ones(shape=(nbpoints, 1+d))\n",
    "# All columns apart from the first one contain random numbers uniformly \n",
    "# distributed over the interval [-1, 1]\n",
    "all_datasets[:, 1:] = np.random.uniform(low=-1, high=+1, size=(nbpoints, d))"
   ]
  },
  {
   "cell_type": "code",
   "execution_count": 4,
   "metadata": {},
   "outputs": [],
   "source": [
    "#all_datasets[:, 1:] = np.random.uniform(low=-1, high=+1, size=nbpoints*d).reshape(nbpoints, d)"
   ]
  },
  {
   "cell_type": "markdown",
   "metadata": {},
   "source": [
    "## Target function $f$ charachterized by its weight vector $\\mathbf{w}_f$\n",
    "\n",
    "Next, separate the data by the hyperplane characterized by $\\mathbf{w}_f^\\top = (0, 1, 1)$ and label the data either +1 or -1. \n",
    "\n",
    "In other words the **target function** is \n",
    "$$f(x_1, x_2) = x_1 + x_2$$"
   ]
  },
  {
   "cell_type": "code",
   "execution_count": 5,
   "metadata": {},
   "outputs": [],
   "source": [
    "def target_weight(d):\n",
    "    w = np.ones(shape=1+d)\n",
    "    w[0] = 0\n",
    "    return w"
   ]
  },
  {
   "cell_type": "code",
   "execution_count": 6,
   "metadata": {},
   "outputs": [
    {
     "data": {
      "text/plain": [
       "array([0., 1., 1.])"
      ]
     },
     "execution_count": 6,
     "metadata": {},
     "output_type": "execute_result"
    }
   ],
   "source": [
    "W_f = target_weight(d=2)\n",
    "W_f"
   ]
  },
  {
   "cell_type": "markdown",
   "metadata": {},
   "source": [
    "## Label all datasets at once using the target function"
   ]
  },
  {
   "cell_type": "code",
   "execution_count": 7,
   "metadata": {},
   "outputs": [],
   "source": [
    "all_labels = np.sign(all_datasets@W_f.T)"
   ]
  },
  {
   "cell_type": "markdown",
   "metadata": {},
   "source": [
    "## Or even better, create one function to do all the stuff above."
   ]
  },
  {
   "cell_type": "code",
   "execution_count": 8,
   "metadata": {},
   "outputs": [],
   "source": [
    "def generate_data(N, d, nb_sets):\n",
    "    nb_points = N*nb_sets\n",
    "    all_datasets = np.ones(shape=(nb_points, 1+d))\n",
    "    all_datasets[:, 1:] = np.random.uniform(low=-1, high=+1, size=(nb_points, d))\n",
    "    w_f = target_weight(d)\n",
    "    all_labels = np.sign(all_datasets@w_f.T)\n",
    "    return {'Datasets':all_datasets,\n",
    "            'Labels':all_labels, \n",
    "            'Datapoints per set': N,\n",
    "            'Dimension': d,\n",
    "            'Sets': nb_sets,\n",
    "            'Data Generator': w_f}            "
   ]
  },
  {
   "cell_type": "markdown",
   "metadata": {},
   "source": [
    "## Finally, select one of the datasets as *training set*"
   ]
  },
  {
   "cell_type": "code",
   "execution_count": 10,
   "metadata": {},
   "outputs": [],
   "source": [
    "def get_training_set(data, idx=0):\n",
    "    all_datasets, all_labels = data['Datasets'], data['Labels']\n",
    "    N, nb_sets = data['Datapoints per set'], data['Sets']\n",
    "    assert idx < nb_sets, 'Not enough sets.'\n",
    "    offset = N*idx\n",
    "    return all_datasets[offset:offset+N,:], all_labels[offset:offset+N]"
   ]
  },
  {
   "cell_type": "markdown",
   "metadata": {},
   "source": [
    "# Plot the training set and the target function"
   ]
  },
  {
   "cell_type": "code",
   "execution_count": 9,
   "metadata": {},
   "outputs": [],
   "source": [
    "DATA = generate_data(N=25, d=2, nb_sets=10)"
   ]
  },
  {
   "cell_type": "code",
   "execution_count": 11,
   "metadata": {},
   "outputs": [],
   "source": [
    "X, Y = get_training_set(data=DATA, idx=0)"
   ]
  },
  {
   "cell_type": "code",
   "execution_count": 12,
   "metadata": {},
   "outputs": [],
   "source": [
    "def get_coords(i, X):\n",
    "    '''INPUT: the feature index or coordinate i and the dataset X. \n",
    "       OUTPUT: '''\n",
    "    _, dim = X.shape\n",
    "    assert i < dim\n",
    "    return X[:, i]"
   ]
  },
  {
   "cell_type": "code",
   "execution_count": 13,
   "metadata": {},
   "outputs": [],
   "source": [
    "def scatter_data(X, Y, dim1=1, dim2=2):\n",
    "    positives, negatives = X[Y==+1], X[Y==-1]\n",
    "    pos_x, pos_y = get_coords(X=positives, i=dim1), get_coords(X=positives, i=dim2)\n",
    "    neg_x, neg_y = get_coords(X=negatives, i=dim1), get_coords(X=negatives, i=dim2)\n",
    "    plt.scatter(pos_x, pos_y, color='green')\n",
    "    plt.scatter(neg_x, neg_y, color='red')"
   ]
  },
  {
   "cell_type": "code",
   "execution_count": 14,
   "metadata": {},
   "outputs": [],
   "source": [
    "def get_h(w, dim1=1, dim2=2):\n",
    "    w_0, w_1, w_2 = w[0], w[dim1], w[dim2]\n",
    "    assert w_2 != 0\n",
    "    return lambda x : (-1/w_2)*(w_1*x + w_0)"
   ]
  },
  {
   "cell_type": "code",
   "execution_count": 15,
   "metadata": {},
   "outputs": [],
   "source": [
    "def draw_h(w, dim1=1, dim2=2, color='blue'):\n",
    "    #dim = len(w)\n",
    "    #assert dim1 < dim and dim2 < dim\n",
    "    h = get_h(w=w, dim1=dim1, dim2=dim2)\n",
    "    x = np.linspace(start=-1.0, stop=1.0, endpoint=True, num=50)\n",
    "    plt.plot(x, h(x), color)"
   ]
  },
  {
   "cell_type": "code",
   "execution_count": 16,
   "metadata": {},
   "outputs": [],
   "source": [
    "def plot_training_set(X, Y):\n",
    "    global W_f\n",
    "    scatter_data(X, Y, dim1=1, dim2=2)\n",
    "    draw_h(w=W_f)"
   ]
  },
  {
   "cell_type": "code",
   "execution_count": 30,
   "metadata": {},
   "outputs": [
    {
     "data": {
      "image/png": "[encoded data removed]",
      "text/plain": [
       "<Figure size 432x288 with 1 Axes>"
      ]
     },
     "metadata": {
      "needs_background": "light"
     },
     "output_type": "display_data"
    }
   ],
   "source": [
    "plot_training_set(X, Y)"
   ]
  },
  {
   "cell_type": "markdown",
   "metadata": {},
   "source": [
    "# Perceptron Learning Algorithm ($\\textit{PLA}$)\n",
    "\n",
    "\n",
    "\n",
    "**Inputs** are the data $X$ and their labels $Y$, the initial weight $w_{init}$, the learning rate $\\eta$ and the maximum number of iterations $\\textit{max_iter}$. Default values are specified for the later two parameters.\n",
    "\n",
    "The **output** containts all weights and the index of the last one. If the data could not be separated then the returned index will equal the maximum number of iterations."
   ]
  },
  {
   "cell_type": "markdown",
   "metadata": {},
   "source": [
    "## PLA\n",
    "\n",
    "1. Intialize (randomly) the weight vector $\\mathbf{w}_0$\n",
    "2. Repeat until *no more datapoints are misclassified* or the *maximum number of iterations is reached*\n",
    "    - At generation $n$ pick a misclassified datapoint $\\mathbf{x}_n$ from the dataset $D$\n",
    "    - Update the weight vector $\\mathbf{w}_{n+1} = \\mathbf{w}_{n+1} + y_n \\mathbf{x}_n$ \n",
    "3. Return the final weight vector $\\mathbf{w}$"
   ]
  },
  {
   "cell_type": "code",
   "execution_count": 17,
   "metadata": {},
   "outputs": [],
   "source": [
    "def empty_p(array):\n",
    "    return array.size == 0\n",
    "    \n",
    "def random_datapoint(X, Y):\n",
    "    nb_points, _ = X.shape\n",
    "    idx = np.random.randint(nb_points)\n",
    "    return X[idx], Y[idx]"
   ]
  },
  {
   "cell_type": "code",
   "execution_count": 18,
   "metadata": {},
   "outputs": [],
   "source": [
    "def match(w, X, Y):\n",
    "    '''INPUT: weight vector w and the training set with datapoints X and labels Y.\n",
    "       OUTPUT: in-sample error E_in and the matching results matched_p.'''\n",
    "    predicted_Y = np.sign(X@w.T)\n",
    "    matched_p = (predicted_Y != Y)\n",
    "    E_in = np.sum(matched_p)\n",
    "    return matched_p, E_in"
   ]
  },
  {
   "cell_type": "code",
   "execution_count": 19,
   "metadata": {},
   "outputs": [],
   "source": [
    "def random_weight_vector(X):\n",
    "    _, dim = X.shape\n",
    "    return np.random.uniform(low=-1, high=+1, size=dim)"
   ]
  },
  {
   "cell_type": "code",
   "execution_count": 20,
   "metadata": {},
   "outputs": [],
   "source": [
    "def PLA(X, Y, w_init, eta=1, max_iter=1000):\n",
    "    N, dim = X.shape\n",
    "    # Create an array to store all weight vectors\n",
    "    weights = np.zeros(shape=(max_iter, dim))\n",
    "    E_in_evol = np.zeros(max_iter)\n",
    "    \n",
    "    w = np.copy(w_init)\n",
    "    for n in np.arange(max_iter):\n",
    "        matched_p, E_in = match(w, X, Y)\n",
    "        misclassified_X, correct_Y = X[matched_p], Y[matched_p]\n",
    "        weights[n, :], E_in_evol[n] = w, E_in\n",
    "        if empty_p(misclassified_X):\n",
    "            return {'Weights':weights, 'Counter':n, 'In_Sample Error':E_in_evol}\n",
    "        else:\n",
    "            misclassified_x, correct_y = random_datapoint(misclassified_X, correct_Y)\n",
    "            w = w + eta*correct_y*misclassified_x\n",
    "    else:\n",
    "        return {'Weights':weights, 'Counter':n, 'In_Sample Error':E_in_evol}"
   ]
  },
  {
   "cell_type": "code",
   "execution_count": 21,
   "metadata": {},
   "outputs": [],
   "source": [
    "PLA_Result = PLA(X, Y, w_init=random_weight_vector(X), **{'max_iter':1000, 'eta':0.1})"
   ]
  },
  {
   "cell_type": "markdown",
   "metadata": {},
   "source": [
    "## Run an experiment"
   ]
  },
  {
   "cell_type": "code",
   "execution_count": 22,
   "metadata": {},
   "outputs": [],
   "source": [
    "def get_final_weights(traces, nb_iters):\n",
    "    return [trace[last] for trace, last in zip(traces, nb_iters)]"
   ]
  },
  {
   "cell_type": "code",
   "execution_count": 23,
   "metadata": {},
   "outputs": [],
   "source": [
    "def run(X, Y, learning_alg, nb_runs=10, **params):\n",
    "    _, dim = X.shape\n",
    "    traces, nb_iters = [], []\n",
    "    for i in range(nb_runs):\n",
    "        result = PLA(X, Y, w_init=random_weight_vector(X), **params)\n",
    "        traces.append(result['Weights']), nb_iters.append(result['Counter'])\n",
    "    return get_final_weights(traces, nb_iters), nb_iters"
   ]
  },
  {
   "cell_type": "code",
   "execution_count": 24,
   "metadata": {},
   "outputs": [],
   "source": [
    "FINAL_WEIGHTS, ITERATIONS = run(X, Y, learning_alg=PLA, \n",
    "                                nb_runs=10, **{'max_iter':1000, 'eta':0.01})"
   ]
  },
  {
   "cell_type": "code",
   "execution_count": 25,
   "metadata": {},
   "outputs": [
    {
     "data": {
      "text/plain": [
       "[159, 110, 160, 126, 56, 173, 70, 204, 96, 161]"
      ]
     },
     "execution_count": 25,
     "metadata": {},
     "output_type": "execute_result"
    }
   ],
   "source": [
    "ITERATIONS"
   ]
  },
  {
   "cell_type": "markdown",
   "metadata": {},
   "source": [
    "# Plot the dataset, target $f$ and the final hypothesis $g$"
   ]
  },
  {
   "cell_type": "code",
   "execution_count": 26,
   "metadata": {},
   "outputs": [],
   "source": [
    "def plot_run(X, Y, w_f, weights):\n",
    "    fig, ax = plt.subplots()\n",
    "    ax.set_xlim((-1, 1))\n",
    "    ax.set_ylim((-1, 1))\n",
    "    scatter_data(X, Y)\n",
    "    draw_h(w=W_f)\n",
    "    for w_final in weights:\n",
    "        draw_h(w=w_final, color='brown')"
   ]
  },
  {
   "cell_type": "code",
   "execution_count": 27,
   "metadata": {},
   "outputs": [
    {
     "data": {
      "image/png": "[encoded data removed]",
      "text/plain": [
       "<Figure size 432x288 with 1 Axes>"
      ]
     },
     "metadata": {
      "needs_background": "light"
     },
     "output_type": "display_data"
    }
   ],
   "source": [
    "plot_run(X,Y, w_f=W_f, weights=FINAL_WEIGHTS)"
   ]
  },
  {
   "cell_type": "markdown",
   "metadata": {},
   "source": [
    "# Pocket Algorithm\n",
    "\n",
    "1. Set the pocket weight vector $\\mathbf{w}^*$ to $\\mathbf{w}_0$ of PLA\n",
    "2. for $n = 0, \\cdots, N - 1$ do\n",
    "    - Run PLA for one update to obtain $\\mathbf{w}_{n+1}$\n",
    "    - Evaluate $E_{in} (\\mathbf{w}_{n+1})$\n",
    "    - If $\\mathbf{w}_{n+1}$ is better than $\\mathbf{w}^*$ in terms of $E_{in}$, set $\\mathbf{w}^*$ to $\\mathbf{w}_{n+1}$\n",
    "3. Return $\\mathbf{w}^*$"
   ]
  },
  {
   "cell_type": "code",
   "execution_count": 28,
   "metadata": {},
   "outputs": [],
   "source": [
    "def PocketAlgorithm(X, Y, w_init, eta=1, max_iter=1000):\n",
    "    N, dim = X.shape\n",
    "    # Create an array to store all weight vectors\n",
    "    weights = np.zeros(shape=(max_iter, dim))\n",
    "    E_in_evol = np.zeros(max_iter)\n",
    "    # Added to PLA\n",
    "    best_weights = np.zeros_like(weights)\n",
    "    E_in_best_evol = np.zeros_like(E_in_evol)\n",
    "    \n",
    "    w = np.copy(w_init)\n",
    "    # Added to PLA\n",
    "    w_best = w    \n",
    "    # Added to PLA\n",
    "    _, E_in_best = match(w, X, Y)                                 \n",
    "    for n in np.arange(max_iter):\n",
    "        matched_p, E_in = match(w, X, Y)\n",
    "        # Added to PLA\n",
    "        if E_in < E_in_best:                                      \n",
    "                w_best, E_in_best = w, E_in \n",
    "        #print('E_in :', E_in, 'E_in_best :', E_in_best)\n",
    "        misclassified_X, correct_Y = X[matched_p], Y[matched_p]\n",
    "        weights[n, :], E_in_evol[n] = w, E_in\n",
    "        # Added to PLA\n",
    "        best_weights[n, :], E_in_best_evol[n] = w_best, E_in_best\n",
    "        if empty_p(misclassified_X):\n",
    "            return {'Weights':weights, 'Counter':n, \n",
    "                    'W_best':w_best, 'E_in_best':E_in_best} \n",
    "        else:\n",
    "            misclassified_x, correct_y = random_datapoint(misclassified_X, correct_Y)\n",
    "            w = w + eta*correct_y*misclassified_x     \n",
    "    else:\n",
    "        return {'Weights':weights, 'Counter':n, \n",
    "                'W_best':w_best, 'E_in_best':E_in_best} "
   ]
  },
  {
   "cell_type": "code",
   "execution_count": 29,
   "metadata": {},
   "outputs": [],
   "source": [
    "Pocket_Result = PocketAlgorithm(X, Y, w_init=random_weight_vector(X), \n",
    "                                **{'eta':2, 'max_iter':10})"
   ]
  },
  {
   "cell_type": "markdown",
   "metadata": {},
   "source": [
    "# Logistic Regression\n",
    "\n",
    "The logistic function AKA sigmoid function $\\theta$ is defined as\n",
    "$$\\theta(x) = \\frac{e^x}{1 + e^x} = \\frac{1}{1 + e^{-x}}$$"
   ]
  },
  {
   "cell_type": "code",
   "execution_count": 36,
   "metadata": {},
   "outputs": [],
   "source": [
    "def sigmoid(x):\n",
    "    return 1/(1+np.exp(-x))"
   ]
  },
  {
   "cell_type": "code",
   "execution_count": 37,
   "metadata": {},
   "outputs": [],
   "source": [
    "## Plot of the sigmoid"
   ]
  },
  {
   "cell_type": "code",
   "execution_count": 38,
   "metadata": {},
   "outputs": [
    {
     "data": {
      "text/plain": [
       "[<matplotlib.lines.Line2D at 0x1a1aaa4b38>]"
      ]
     },
     "execution_count": 38,
     "metadata": {},
     "output_type": "execute_result"
    },
    {
     "data": {
      "image/png": "[encoded data removed]",
      "text/plain": [
       "<Figure size 432x288 with 1 Axes>"
      ]
     },
     "metadata": {
      "needs_background": "light"
     },
     "output_type": "display_data"
    }
   ],
   "source": [
    "x = np.linspace(-10, 10, 100)\n",
    "plt.plot(x, sigmoid(x))"
   ]
  },
  {
   "cell_type": "markdown",
   "metadata": {},
   "source": [
    "# Gradient descent with fixed learning rate $\\eta$\n",
    "\n",
    "1. Initialize the weights at step $n = 0$ to  $\\mathbf{w}_0$\n",
    "2. for $n = 0, \\cdots, N - 1$ do\n",
    "    - Compute the gradient $$\\nabla E_{in}(\\mathbf{w}_n)$$\n",
    "    - Update the weights: \n",
    "    $$\\mathbf{w}_{n+1} = \\mathbf{w}_{n+1} - \\eta \\nabla E_{in}(\\mathbf{w}_n)$$\n",
    "    - Iterate to the next step till *termination criterion* is met\n",
    "3. Return final the weights  $\\mathbf{w}$"
   ]
  },
  {
   "cell_type": "markdown",
   "metadata": {},
   "source": [
    "# Logistic Regression Algorithm \n",
    "\n",
    "1. Initialize the weights at step $n = 0$ to  $\\mathbf{w}_0$\n",
    "2. for $n = 0, \\cdots, N - 1$ do\n",
    "    - Compute the gradient \n",
    "    $$\\nabla E_{in}(\\mathbf{w}_n) = - \\frac{1}{N} \n",
    "    \\sum_{n=1}^{N} \\frac{y_n \\mathbf{x}_n}{1 + e^{y_n \\mathbf{w}.\\mathbf{x}_n}}$$\n",
    "    - Update the weights: \n",
    "    $$\\mathbf{w}_{n+1} = \\mathbf{w}_{n+1} - \\eta \\nabla E_{in}(\\mathbf{w}_n)$$\n",
    "    - Iterate to the next step till *termination criterion* is met\n",
    "3. Return final the weights  $\\mathbf{w}$"
   ]
  },
  {
   "cell_type": "markdown",
   "metadata": {},
   "source": [
    "Note that $\\nabla E_{in}(\\mathbf{w}_n)$ also equals\n",
    "\n",
    "$$\\nabla E_{in}(\\mathbf{w}_n) = \n",
    "\\frac{1}{N} \\sum_{n=1}^{N} - y_n \\mathbf{x}_n \\theta(-y_n \\mathbf{w}.\\mathbf{x}_n)$$\n",
    "where $\\theta$ is the logistic function \n",
    "$$\\theta(x) = \\frac{1}{1 + e^{-x}}$$\n",
    "\n",
    "We will use this in the function *gradient_logistic_error*."
   ]
  },
  {
   "cell_type": "code",
   "execution_count": 112,
   "metadata": {},
   "outputs": [],
   "source": [
    "def logistic_error(w, X, Y):\n",
    "    '''INPUT: weight vector w and the training set with datapoints X and labels Y.\n",
    "       OUTPUT: logistic in-sample error E_in.'''\n",
    "    E_in = np.average(np.log(1 + np.exp(-Y*(X@w))))\n",
    "    return E_in"
   ]
  },
  {
   "cell_type": "code",
   "execution_count": 113,
   "metadata": {},
   "outputs": [],
   "source": [
    "def gradient_logistic_error(w, X, Y):\n",
    "    arg = -Y*(X@w)\n",
    "    scalars = -Y*sigmoid(arg)\n",
    "    scalars = scalars[:, np.newaxis]\n",
    "    grad = np.mean(scalars*X, axis=0)\n",
    "    return grad"
   ]
  },
  {
   "cell_type": "code",
   "execution_count": 111,
   "metadata": {},
   "outputs": [
    {
     "data": {
      "text/plain": [
       "array([ 0.0523590366, -0.0699268878, -0.1157219771])"
      ]
     },
     "execution_count": 111,
     "metadata": {},
     "output_type": "execute_result"
    }
   ],
   "source": [
    "gradient_logistic_error(w=W_f, X=X, Y=Y)"
   ]
  },
  {
   "cell_type": "code",
   "execution_count": 116,
   "metadata": {},
   "outputs": [],
   "source": [
    "def logistic_regression(X, Y, w_init, eta, max_iter):\n",
    "    N, dim = X.shape\n",
    "    # Create an array to store all weight vectors\n",
    "    weights = np.zeros(shape=(max_iter, dim))\n",
    "    E_in_evol = np.zeros(max_iter)\n",
    "    w = w_init\n",
    "    for n in np.arange(max_iter):\n",
    "        E_in = logistic_error(w, X, Y)\n",
    "        gradient = gradient_logistic_error(w, X, Y)\n",
    "        w = w - eta*gradient\n",
    "        weights[n, :], E_in_evol[n] = w, E_in\n",
    "    return {'Weights':weights, 'E_in':E_in_evol} "
   ]
  },
  {
   "cell_type": "code",
   "execution_count": 131,
   "metadata": {},
   "outputs": [],
   "source": [
    "Result = logistic_regression(X, Y, w_init=random_weight_vector(X), eta=0.1, max_iter=1000)"
   ]
  },
  {
   "cell_type": "code",
   "execution_count": 132,
   "metadata": {},
   "outputs": [
    {
     "data": {
      "image/png": "[encoded data removed]",
      "text/plain": [
       "<Figure size 432x288 with 1 Axes>"
      ]
     },
     "metadata": {
      "needs_background": "light"
     },
     "output_type": "display_data"
    }
   ],
   "source": [
    "plt.plot(Result['E_in']);"
   ]
  },
  {
   "cell_type": "code",
   "execution_count": 133,
   "metadata": {},
   "outputs": [
    {
     "data": {
      "image/png": "[encoded data removed]",
      "text/plain": [
       "<Figure size 432x288 with 1 Axes>"
      ]
     },
     "metadata": {
      "needs_background": "light"
     },
     "output_type": "display_data"
    }
   ],
   "source": [
    "plot_training_set(X, Y)\n",
    "draw_h(w=Result['Weights'][-1], color='red')"
   ]
  },
  {
   "cell_type": "code",
   "execution_count": 152,
   "metadata": {},
   "outputs": [],
   "source": [
    "def polar_to_Cartesian(r, theta):\n",
    "    return r*np.cos(theta), r*np.sin(theta)"
   ]
  },
  {
   "cell_type": "code",
   "execution_count": 166,
   "metadata": {},
   "outputs": [],
   "source": [
    "def double_demi_circle(rad, sep, thk, N):\n",
    "    angles = np.random.uniform(low=0., high=2*np.pi, size=N)\n",
    "    distances = np.random.uniform(low=rad, high=rad+thk, size=N)\n",
    "    labels = angles<=np.pi\n",
    "    center_positives, center_negatives = np.zeros(2), np.array([rad+thk/2, -sep])\n",
    "    x, y = polar_to_Cartesian(r=distances, theta=angles)\n",
    "    tmp_points = np.vstack((x, y))\n",
    "    \n",
    "    return tmp_points, labels  "
   ]
  },
  {
   "cell_type": "code",
   "execution_count": 153,
   "metadata": {},
   "outputs": [],
   "source": [
    "x, y = polar_to_Cartesian(r=distances,theta=angles)"
   ]
  },
  {
   "cell_type": "code",
   "execution_count": 173,
   "metadata": {},
   "outputs": [],
   "source": [
    "points, labels = double_demi_circle(rad=10, sep=5, thk=5, N=10)"
   ]
  },
  {
   "cell_type": "code",
   "execution_count": 176,
   "metadata": {},
   "outputs": [
    {
     "data": {
      "text/plain": [
       "array([[ -0.2467543747,  12.1374665637, -12.3923287146,  -0.589320886 ,\n",
       "          9.2190993893,   8.7601329348,  10.5400397698,   0.6232702871,\n",
       "          1.406249733 ,  -6.9839973241],\n",
       "       [-10.5876213057,  -8.6849379794,   8.4191327166,  10.0017309942,\n",
       "         -6.3742730687,   8.9795379006,  -5.608011863 ,  10.9340625594,\n",
       "        -13.2650159233, -11.4665986415]])"
      ]
     },
     "execution_count": 176,
     "metadata": {},
     "output_type": "execute_result"
    }
   ],
   "source": [
    "points"
   ]
  },
  {
   "cell_type": "code",
   "execution_count": 180,
   "metadata": {},
   "outputs": [
    {
     "data": {
      "text/plain": [
       "(10,)"
      ]
     },
     "execution_count": 180,
     "metadata": {},
     "output_type": "execute_result"
    }
   ],
   "source": [
    "np.ones(10).shape"
   ]
  },
  {
   "cell_type": "code",
   "execution_count": 157,
   "metadata": {},
   "outputs": [],
   "source": [
    "points = np.vstack((x, y))"
   ]
  },
  {
   "cell_type": "code",
   "execution_count": 174,
   "metadata": {},
   "outputs": [
    {
     "data": {
      "text/plain": [
       "<matplotlib.collections.PathCollection at 0x1a1c26bf28>"
      ]
     },
     "execution_count": 174,
     "metadata": {},
     "output_type": "execute_result"
    },
    {
     "data": {
      "image/png": "[encoded data removed]",
      "text/plain": [
       "<Figure size 432x288 with 1 Axes>"
      ]
     },
     "metadata": {
      "needs_background": "light"
     },
     "output_type": "display_data"
    }
   ],
   "source": [
    "plt.scatter(points[0,:], points[1,:])"
   ]
  },
  {
   "cell_type": "markdown",
   "metadata": {},
   "source": [
    "\n",
    "# Animation of the decision boundary $h$\n",
    "\n",
    "Still **To Be Done**"
   ]
  },
  {
   "cell_type": "code",
   "execution_count": null,
   "metadata": {},
   "outputs": [],
   "source": [
    "from matplotlib import animation, rc\n",
    "from IPython.display import HTML"
   ]
  },
  {
   "cell_type": "code",
   "execution_count": null,
   "metadata": {},
   "outputs": [],
   "source": [
    "# First set up the figure, the axis, and the plot element we want to animate\n",
    "fig = plt.figure()\n",
    "ax = plt.axes(xlim=(-1, 1), ylim=(-1, 1))\n",
    "line, = ax.plot([], [], lw=2)"
   ]
  },
  {
   "cell_type": "code",
   "execution_count": null,
   "metadata": {},
   "outputs": [],
   "source": [
    "# initialization function: plot the background of each frame\n",
    "def init():\n",
    "    global DATA\n",
    "    scatter_data(X, Y)\n",
    "    draw_h(w=DATA['Data Generator'])\n",
    "    line.set_data([], [])\n",
    "    return line,"
   ]
  },
  {
   "cell_type": "code",
   "execution_count": null,
   "metadata": {},
   "outputs": [],
   "source": [
    "def animate(i):\n",
    "    global Result\n",
    "    weights = Result['Weights']\n",
    "    h = get_h(w=weights[i], dim1=0, dim2=1)\n",
    "    x = np.linspace(start=-1.0, stop=1.0, endpoint=True, num=50)\n",
    "    y = h(x)\n",
    "    plt.plot(x, y, color='brown')\n",
    "    line.set_data(x, y)\n",
    "    return line,"
   ]
  },
  {
   "cell_type": "code",
   "execution_count": null,
   "metadata": {},
   "outputs": [],
   "source": [
    "anim = animation.FuncAnimation(fig, animate, init_func=init, frames=N, interval=1)"
   ]
  },
  {
   "cell_type": "code",
   "execution_count": null,
   "metadata": {},
   "outputs": [],
   "source": [
    "HTML(anim.to_html5_video())"
   ]
  },
  {
   "cell_type": "code",
   "execution_count": null,
   "metadata": {},
   "outputs": [],
   "source": [
    "anim.save('basic_animation.mp4', fps=30, extra_args=['-vcodec', 'libx264'])"
   ]
  }
 ],
 "metadata": {
  "kernelspec": {
   "display_name": "Python 3",
   "language": "python",
   "name": "python3"
  },
  "language_info": {
   "codemirror_mode": {
    "name": "ipython",
    "version": 3
   },
   "file_extension": ".py",
   "mimetype": "text/x-python",
   "name": "python",
   "nbconvert_exporter": "python",
   "pygments_lexer": "ipython3",
   "version": "3.7.3"
  }
 },
 "nbformat": 4,
 "nbformat_minor": 2
}
